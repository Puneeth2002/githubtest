{
  "nbformat": 4,
  "nbformat_minor": 0,
  "metadata": {
    "colab": {
      "provenance": [],
      "collapsed_sections": []
    },
    "kernelspec": {
      "name": "python3",
      "display_name": "Python 3"
    },
    "language_info": {
      "name": "python"
    }
  },
  "cells": [
    {
      "cell_type": "code",
      "execution_count": 103,
      "metadata": {
        "id": "g9HrD_jpVX7F"
      },
      "outputs": [],
      "source": [
        "import pandas as pd\n",
        "import numpy as np\n",
        "from sklearn import preprocessing\n",
        "from matplotlib import pyplot as plt"
      ]
    },
    {
      "cell_type": "code",
      "source": [
        "df=pd.read_csv('/content/row_cleaned.csv')\n",
        "data=df.loc[:, ~df.columns.isin(['Sno', 'iso_code','country'])]\n",
        "x = data.values\n",
        "min_max_scaler = preprocessing.MinMaxScaler()\n",
        "x_scaled = min_max_scaler.fit_transform(x)\n",
        "data = pd.DataFrame(x_scaled)\n",
        "\n",
        "data.to_csv('/content/normalized.csv')"
      ],
      "metadata": {
        "id": "DWYJ65GNVpH_"
      },
      "execution_count": 104,
      "outputs": []
    },
    {
      "cell_type": "code",
      "source": [
        "df_min_max_scaled = df.copy()\n",
        "\n",
        "# apply normalization techniques\n",
        "for column in df_min_max_scaled.iloc[:, 4:]:\n",
        "    df_min_max_scaled[column] = (df_min_max_scaled[column] - df_min_max_scaled[column].min()) / (df_min_max_scaled[column].max() - df_min_max_scaled[column].min())\n",
        "\n",
        "\n",
        "df_min_max_scaled.to_csv('/content/min-max-normalized.csv')"
      ],
      "metadata": {
        "id": "zCH6VLGca2Ht"
      },
      "execution_count": 105,
      "outputs": []
    },
    {
      "cell_type": "code",
      "source": [
        "def explore(row: float):\n",
        "  if row >= 0.25:\n",
        "    return 'high'\n",
        "  else:\n",
        "    return 'low'\n",
        "x=df_min_max_scaled['co2_per_gdp'].tolist()\n",
        "y=[]\n",
        "for r in x:\n",
        "  y.append(explore(r))\n",
        "\n",
        "df_min_max_scaled['class']=y\n",
        "print(df_min_max_scaled['class'])\n",
        "df_min_max_scaled.to_csv('/content/min-max-normalized.csv')"
      ],
      "metadata": {
        "colab": {
          "base_uri": "https://localhost:8080/"
        },
        "id": "5bus_KV6qebu",
        "outputId": "344160d6-d922-4bd8-85a3-c4e7021a9060"
      },
      "execution_count": 108,
      "outputs": [
        {
          "output_type": "stream",
          "name": "stdout",
          "text": [
            "0       high\n",
            "1       high\n",
            "2       high\n",
            "3       high\n",
            "4       high\n",
            "        ... \n",
            "1123     low\n",
            "1124     low\n",
            "1125     low\n",
            "1126     low\n",
            "1127     low\n",
            "Name: class, Length: 1128, dtype: object\n"
          ]
        }
      ]
    },
    {
      "cell_type": "code",
      "source": [
        "classa=df_min_max_scaled.loc[df_min_max_scaled['class']=='high']\n",
        "Mean=np.mean(classa , axis=0)\n",
        "standard=np.std(classa, axis=0)\n",
        "print(Mean)\n",
        "print(standard)"
      ],
      "metadata": {
        "colab": {
          "base_uri": "https://localhost:8080/"
        },
        "id": "Kd_yninl24zL",
        "outputId": "e65b0036-0746-463b-b1b1-f03c58d3430f"
      },
      "execution_count": 109,
      "outputs": [
        {
          "output_type": "stream",
          "name": "stdout",
          "text": [
            "Sno                                    12833.410180\n",
            "year                                    1999.371257\n",
            "co2                                        0.015568\n",
            "co2_per_capita                             0.321068\n",
            "trade_co2                                  0.656767\n",
            "cement_co2                                 0.004552\n",
            "cement_co2_per_capita                      0.147582\n",
            "coal_co2                                   0.014551\n",
            "coal_co2_per_capita                        0.309591\n",
            "flaring_co2                                0.017731\n",
            "flaring_co2_per_capita                     0.155522\n",
            "gas_co2                                    0.020491\n",
            "gas_co2_per_capita                         0.360103\n",
            "oil_co2                                    0.015422\n",
            "oil_co2_per_capita                         0.155358\n",
            "other_industry_co2                         0.016012\n",
            "other_co2_per_capita                       0.312527\n",
            "co2_growth_prct                            0.572554\n",
            "co2_growth_abs                             0.201578\n",
            "co2_per_gdp                                0.435507\n",
            "co2_per_unit_energy                        0.524560\n",
            "consumption_co2                            0.014362\n",
            "consumption_co2_per_capita                 0.176575\n",
            "consumption_co2_per_gdp                    0.398457\n",
            "cumulative_co2                             0.017683\n",
            "cumulative_cement_co2                      0.007978\n",
            "cumulative_coal_co2                        0.019251\n",
            "cumulative_flaring_co2                     0.010411\n",
            "cumulative_gas_co2                         0.020739\n",
            "cumulative_oil_co2                         0.015724\n",
            "cumulative_other_co2                       0.009948\n",
            "trade_co2_share                            0.194893\n",
            "share_global_co2                           0.022789\n",
            "share_global_cement_co2                    0.010889\n",
            "share_global_coal_co2                      0.022783\n",
            "share_global_flaring_co2                   0.026927\n",
            "share_global_gas_co2                       0.032657\n",
            "share_global_oil_co2                       0.019149\n",
            "share_global_other_co2                     0.021080\n",
            "share_global_cumulative_co2                0.028399\n",
            "share_global_cumulative_cement_co2         0.018374\n",
            "share_global_cumulative_coal_co2           0.028429\n",
            "share_global_cumulative_flaring_co2        0.016456\n",
            "share_global_cumulative_gas_co2            0.040302\n",
            "share_global_cumulative_oil_co2            0.026046\n",
            "share_global_cumulative_other_co2          0.022342\n",
            "total_ghg                                  0.017512\n",
            "ghg_per_capita                             0.501427\n",
            "total_ghg_excluding_lucf                   0.015468\n",
            "ghg_excluding_lucf_per_capita              0.351966\n",
            "methane                                    0.018053\n",
            "methane_per_capita                         0.234220\n",
            "nitrous_oxide                              0.011918\n",
            "nitrous_oxide_per_capita                   0.144111\n",
            "population                                 0.007004\n",
            "gdp                                        0.008612\n",
            "primary_energy_consumption                 0.015851\n",
            "energy_per_capita                          0.349136\n",
            "energy_per_gdp                             0.358721\n",
            "dtype: float64\n",
            "Sno                                    7516.696040\n",
            "year                                      7.216905\n",
            "co2                                       0.044954\n",
            "co2_per_capita                            0.175019\n",
            "trade_co2                                 0.071501\n",
            "cement_co2                                0.018144\n",
            "cement_co2_per_capita                     0.147087\n",
            "coal_co2                                  0.041215\n",
            "coal_co2_per_capita                       0.200252\n",
            "flaring_co2                               0.040730\n",
            "flaring_co2_per_capita                    0.266032\n",
            "gas_co2                                   0.047558\n",
            "gas_co2_per_capita                        0.243566\n",
            "oil_co2                                   0.054474\n",
            "oil_co2_per_capita                        0.160712\n",
            "other_industry_co2                        0.045442\n",
            "other_co2_per_capita                      0.173171\n",
            "co2_growth_prct                           0.100625\n",
            "co2_growth_abs                            0.020297\n",
            "co2_per_gdp                               0.185913\n",
            "co2_per_unit_energy                       0.158353\n",
            "consumption_co2                           0.044705\n",
            "consumption_co2_per_capita                0.108352\n",
            "consumption_co2_per_gdp                   0.150419\n",
            "cumulative_co2                            0.043869\n",
            "cumulative_cement_co2                     0.019950\n",
            "cumulative_coal_co2                       0.046225\n",
            "cumulative_flaring_co2                    0.030738\n",
            "cumulative_gas_co2                        0.047804\n",
            "cumulative_oil_co2                        0.043638\n",
            "cumulative_other_co2                      0.022210\n",
            "trade_co2_share                           0.074793\n",
            "share_global_co2                          0.070448\n",
            "share_global_cement_co2                   0.055881\n",
            "share_global_coal_co2                     0.069184\n",
            "share_global_flaring_co2                  0.065856\n",
            "share_global_gas_co2                      0.082271\n",
            "share_global_oil_co2                      0.070418\n",
            "share_global_other_co2                    0.061379\n",
            "share_global_cumulative_co2               0.079246\n",
            "share_global_cumulative_cement_co2        0.059871\n",
            "share_global_cumulative_coal_co2          0.075185\n",
            "share_global_cumulative_flaring_co2       0.059614\n",
            "share_global_cumulative_gas_co2           0.104059\n",
            "share_global_cumulative_oil_co2           0.081243\n",
            "share_global_cumulative_other_co2         0.057788\n",
            "total_ghg                                 0.043354\n",
            "ghg_per_capita                            0.170757\n",
            "total_ghg_excluding_lucf                  0.044571\n",
            "ghg_excluding_lucf_per_capita             0.223111\n",
            "methane                                   0.054103\n",
            "methane_per_capita                        0.194823\n",
            "nitrous_oxide                             0.045789\n",
            "nitrous_oxide_per_capita                  0.162053\n",
            "population                                0.038700\n",
            "gdp                                       0.028035\n",
            "primary_energy_consumption                0.044436\n",
            "energy_per_capita                         0.224507\n",
            "energy_per_gdp                            0.175444\n",
            "dtype: float64\n"
          ]
        }
      ]
    },
    {
      "cell_type": "code",
      "source": [
        "classb=df_min_max_scaled.loc[df_min_max_scaled['class']=='low']\n",
        "Mean1=np.mean(classb , axis=0)\n",
        "standard1=np.std(classa, axis=0)\n",
        "print(Mean1)\n",
        "print(standard1)"
      ],
      "metadata": {
        "colab": {
          "base_uri": "https://localhost:8080/"
        },
        "id": "_QjjG69s21yv",
        "outputId": "d0fe76e8-9673-4ea3-e7a0-15e95d030f97"
      },
      "execution_count": 110,
      "outputs": [
        {
          "output_type": "stream",
          "name": "stdout",
          "text": [
            "Sno                                    13402.173804\n",
            "year                                    2006.079345\n",
            "co2                                        0.014518\n",
            "co2_per_capita                             0.216468\n",
            "trade_co2                                  0.709810\n",
            "cement_co2                                 0.009412\n",
            "cement_co2_per_capita                      0.149529\n",
            "coal_co2                                   0.012380\n",
            "coal_co2_per_capita                        0.124426\n",
            "flaring_co2                                0.012193\n",
            "flaring_co2_per_capita                     0.068514\n",
            "gas_co2                                    0.015238\n",
            "gas_co2_per_capita                         0.285891\n",
            "oil_co2                                    0.017696\n",
            "oil_co2_per_capita                         0.178945\n",
            "other_industry_co2                         0.014950\n",
            "other_co2_per_capita                       0.241622\n",
            "co2_growth_prct                            0.585447\n",
            "co2_growth_abs                             0.203308\n",
            "co2_per_gdp                                0.135933\n",
            "co2_per_unit_energy                        0.360198\n",
            "consumption_co2                            0.015789\n",
            "consumption_co2_per_capita                 0.166144\n",
            "consumption_co2_per_gdp                    0.163316\n",
            "cumulative_co2                             0.017924\n",
            "cumulative_cement_co2                      0.012813\n",
            "cumulative_coal_co2                        0.019507\n",
            "cumulative_flaring_co2                     0.009996\n",
            "cumulative_gas_co2                         0.015599\n",
            "cumulative_oil_co2                         0.017774\n",
            "cumulative_other_co2                       0.013201\n",
            "trade_co2_share                            0.307365\n",
            "share_global_co2                           0.017049\n",
            "share_global_cement_co2                    0.013490\n",
            "share_global_coal_co2                      0.014581\n",
            "share_global_flaring_co2                   0.014733\n",
            "share_global_gas_co2                       0.019020\n",
            "share_global_oil_co2                       0.019382\n",
            "share_global_other_co2                     0.017451\n",
            "share_global_cumulative_co2                0.022199\n",
            "share_global_cumulative_cement_co2         0.019303\n",
            "share_global_cumulative_coal_co2           0.023704\n",
            "share_global_cumulative_flaring_co2        0.011878\n",
            "share_global_cumulative_gas_co2            0.020402\n",
            "share_global_cumulative_oil_co2            0.021850\n",
            "share_global_cumulative_other_co2          0.017823\n",
            "total_ghg                                  0.017615\n",
            "ghg_per_capita                             0.416148\n",
            "total_ghg_excluding_lucf                   0.013834\n",
            "ghg_excluding_lucf_per_capita              0.219444\n",
            "methane                                    0.012162\n",
            "methane_per_capita                         0.144144\n",
            "nitrous_oxide                              0.013827\n",
            "nitrous_oxide_per_capita                   0.124056\n",
            "population                                 0.010715\n",
            "gdp                                        0.015425\n",
            "primary_energy_consumption                 0.015722\n",
            "energy_per_capita                          0.323319\n",
            "energy_per_gdp                             0.128414\n",
            "dtype: float64\n",
            "Sno                                    7516.696040\n",
            "year                                      7.216905\n",
            "co2                                       0.044954\n",
            "co2_per_capita                            0.175019\n",
            "trade_co2                                 0.071501\n",
            "cement_co2                                0.018144\n",
            "cement_co2_per_capita                     0.147087\n",
            "coal_co2                                  0.041215\n",
            "coal_co2_per_capita                       0.200252\n",
            "flaring_co2                               0.040730\n",
            "flaring_co2_per_capita                    0.266032\n",
            "gas_co2                                   0.047558\n",
            "gas_co2_per_capita                        0.243566\n",
            "oil_co2                                   0.054474\n",
            "oil_co2_per_capita                        0.160712\n",
            "other_industry_co2                        0.045442\n",
            "other_co2_per_capita                      0.173171\n",
            "co2_growth_prct                           0.100625\n",
            "co2_growth_abs                            0.020297\n",
            "co2_per_gdp                               0.185913\n",
            "co2_per_unit_energy                       0.158353\n",
            "consumption_co2                           0.044705\n",
            "consumption_co2_per_capita                0.108352\n",
            "consumption_co2_per_gdp                   0.150419\n",
            "cumulative_co2                            0.043869\n",
            "cumulative_cement_co2                     0.019950\n",
            "cumulative_coal_co2                       0.046225\n",
            "cumulative_flaring_co2                    0.030738\n",
            "cumulative_gas_co2                        0.047804\n",
            "cumulative_oil_co2                        0.043638\n",
            "cumulative_other_co2                      0.022210\n",
            "trade_co2_share                           0.074793\n",
            "share_global_co2                          0.070448\n",
            "share_global_cement_co2                   0.055881\n",
            "share_global_coal_co2                     0.069184\n",
            "share_global_flaring_co2                  0.065856\n",
            "share_global_gas_co2                      0.082271\n",
            "share_global_oil_co2                      0.070418\n",
            "share_global_other_co2                    0.061379\n",
            "share_global_cumulative_co2               0.079246\n",
            "share_global_cumulative_cement_co2        0.059871\n",
            "share_global_cumulative_coal_co2          0.075185\n",
            "share_global_cumulative_flaring_co2       0.059614\n",
            "share_global_cumulative_gas_co2           0.104059\n",
            "share_global_cumulative_oil_co2           0.081243\n",
            "share_global_cumulative_other_co2         0.057788\n",
            "total_ghg                                 0.043354\n",
            "ghg_per_capita                            0.170757\n",
            "total_ghg_excluding_lucf                  0.044571\n",
            "ghg_excluding_lucf_per_capita             0.223111\n",
            "methane                                   0.054103\n",
            "methane_per_capita                        0.194823\n",
            "nitrous_oxide                             0.045789\n",
            "nitrous_oxide_per_capita                  0.162053\n",
            "population                                0.038700\n",
            "gdp                                       0.028035\n",
            "primary_energy_consumption                0.044436\n",
            "energy_per_capita                         0.224507\n",
            "energy_per_gdp                            0.175444\n",
            "dtype: float64\n"
          ]
        }
      ]
    },
    {
      "cell_type": "code",
      "source": [
        "distance=np.linalg.norm(Mean-Mean1)\n",
        "print(distance)"
      ],
      "metadata": {
        "colab": {
          "base_uri": "https://localhost:8080/"
        },
        "id": "_vnWi59J4Wjt",
        "outputId": "3bb9656d-85bb-4d8f-8861-7079527c2a66"
      },
      "execution_count": 111,
      "outputs": [
        {
          "output_type": "stream",
          "name": "stdout",
          "text": [
            "568.803479482917\n"
          ]
        }
      ]
    },
    {
      "cell_type": "code",
      "source": [
        "np.histogram(df_min_max_scaled['consumption_co2_per_capita'],bins=[0,0.1,0.2,0.3,0.4,0.5,0.6,0.7,0.8,0.9,1],density=True)\n",
        "m=df_min_max_scaled['consumption_co2_per_capita'].mean()\n",
        "var=df_min_max_scaled['consumption_co2_per_capita'].var()\n",
        "print(\"Mean:\",m)\n",
        "print(\"Variance:\",var)"
      ],
      "metadata": {
        "colab": {
          "base_uri": "https://localhost:8080/"
        },
        "id": "33_VnPUa_e3c",
        "outputId": "bbe5b480-fe0c-4956-f24f-7418fc2094ad"
      },
      "execution_count": 112,
      "outputs": [
        {
          "output_type": "stream",
          "name": "stdout",
          "text": [
            "Mean: 0.16923271842622742\n",
            "Variance: 0.012082460547207335\n"
          ]
        }
      ]
    },
    {
      "cell_type": "code",
      "source": [
        "plt.hist(df_min_max_scaled['consumption_co2_per_capita'],bins=[0,0.1,0.2,0.3,0.4,0.5,0.6,0.7,0.8,0.9,1])\n",
        "plt.show()"
      ],
      "metadata": {
        "colab": {
          "base_uri": "https://localhost:8080/",
          "height": 265
        },
        "id": "PBwJ4wJzM-7I",
        "outputId": "66a50abb-3a73-4de2-f11e-12d201353dc7"
      },
      "execution_count": 113,
      "outputs": [
        {
          "output_type": "display_data",
          "data": {
            "text/plain": [
              "<Figure size 432x288 with 1 Axes>"
            ],
            "image/png": "[encoded data removed]"
          },
          "metadata": {
            "needs_background": "light"
          }
        }
      ]
    },
    {
      "cell_type": "code",
      "source": [
        "from scipy.spatial import distance\n",
        "x=df_min_max_scaled.iloc[18,3:-1]\n",
        "y=df_min_max_scaled.iloc[19,3:-1]\n",
        "ans=[]\n",
        "for p in range(1,11):\n",
        "  ans.append(distance.minkowski(x,y,p))\n",
        "print(ans)\n",
        "plt.plot(ans)\n",
        "plt.show()"
      ],
      "metadata": {
        "colab": {
          "base_uri": "https://localhost:8080/",
          "height": 302
        },
        "id": "SDzP5fNpRPC0",
        "outputId": "80bec889-386f-4d0b-9887-d801929a70d9"
      },
      "execution_count": 114,
      "outputs": [
        {
          "output_type": "stream",
          "name": "stdout",
          "text": [
            "[1.3778172807043667, 1.0061225232904167, 1.0002035222786314, 1.0000091060481284, 1.000000470810529, 1.0000000263530577, 1.000000001549357, 1.0000000000941849, 1.000000000005866, 1.0000000000003721]\n"
          ]
        },
        {
          "output_type": "display_data",
          "data": {
            "text/plain": [
              "<Figure size 432x288 with 1 Axes>"
            ],
            "image/png": "[encoded data removed]"
          },
          "metadata": {
            "needs_background": "light"
          }
        }
      ]
    },
    {
      "cell_type": "code",
      "source": [
        "from sklearn.model_selection import train_test_split\n",
        "z=df_min_max_scaled.iloc[:,:-1]\n",
        "\n",
        "X_train, X_test, y_train, y_test = train_test_split(z, df_min_max_scaled['class'], test_size=0.3)\n",
        "print(X_test)"
      ],
      "metadata": {
        "colab": {
          "base_uri": "https://localhost:8080/"
        },
        "id": "Dyzh71MyTf6w",
        "outputId": "4c67faef-accf-4f9f-b876-cf662fecf1a2"
      },
      "execution_count": 115,
      "outputs": [
        {
          "output_type": "stream",
          "name": "stdout",
          "text": [
            "        Sno iso_code        country  year       co2  co2_per_capita  \\\n",
            "737   17695      NOR         Norway  2015  0.001052        0.237654   \n",
            "1026  23582      TUR         Turkey  2010  0.008387        0.093663   \n",
            "158    3756      BGR       Bulgaria  2003  0.001186        0.162893   \n",
            "453   11017      HUN        Hungary  2008  0.001369        0.138656   \n",
            "144    3484      BRA         Brazil  2018  0.013008        0.027360   \n",
            "...     ...      ...            ...   ...       ...             ...   \n",
            "219    5306      HRV        Croatia  2006  0.000450        0.127562   \n",
            "662   14228      LUX     Luxembourg  2014  0.000075        0.529312   \n",
            "45     1795      AUT        Austria  2006  0.001903        0.253790   \n",
            "131    3471      BRA         Brazil  2005  0.009752        0.015941   \n",
            "1110  24648      USA  United States  2007  0.167142        0.615752   \n",
            "\n",
            "      trade_co2  cement_co2  cement_co2_per_capita  coal_co2  ...  \\\n",
            "737    0.684237    0.000428               0.091295  0.000258  ...   \n",
            "1026   0.711174    0.018690               0.286624  0.008786  ...   \n",
            "158    0.679840    0.000812               0.115357  0.002108  ...   \n",
            "453    0.696372    0.000804               0.089172  0.000876  ...   \n",
            "144    0.692754    0.013173               0.069356  0.004461  ...   \n",
            "...         ...         ...                    ...       ...  ...   \n",
            "219    0.687253    0.001047               0.266100  0.000162  ...   \n",
            "662    0.690113    0.000229               0.459306  0.000008  ...   \n",
            "45     0.700641    0.001247               0.167021  0.001203  ...   \n",
            "131    0.675373    0.009158               0.054494  0.003450  ...   \n",
            "1110   0.967427    0.029046               0.106865  0.150058  ...   \n",
            "\n",
            "      ghg_excluding_lucf_per_capita   methane  methane_per_capita  \\\n",
            "737                        0.190017  0.000547            0.085176   \n",
            "1026                       0.047556  0.005212            0.046220   \n",
            "158                        0.143521  0.001121            0.115182   \n",
            "453                        0.103145  0.000901            0.066961   \n",
            "144                        0.039145  0.050314            0.192672   \n",
            "...                             ...       ...                 ...   \n",
            "219                        0.094462  0.000387            0.072647   \n",
            "662                        0.521675  0.000002            0.086966   \n",
            "45                         0.231521  0.000907            0.084965   \n",
            "131                        0.033880  0.048645            0.211097   \n",
            "1110                       0.643726  0.077861            0.208991   \n",
            "\n",
            "      nitrous_oxide  nitrous_oxide_per_capita  population       gdp  \\\n",
            "737        0.000975                  0.084924    0.000631  0.003654   \n",
            "1026       0.009272                  0.045852    0.009428  0.011108   \n",
            "158        0.001387                  0.077252    0.000973  0.000580   \n",
            "453        0.001725                  0.073327    0.001259  0.001677   \n",
            "144        0.058768                  0.129170    0.027401  0.025976   \n",
            "...             ...                       ...         ...       ...   \n",
            "219        0.000890                  0.095272    0.000523  0.000546   \n",
            "662        0.000029                  0.071365    0.000023  0.000147   \n",
            "45         0.001157                  0.056021    0.001036  0.002722   \n",
            "131        0.053115                  0.131847    0.024342  0.018605   \n",
            "1110       0.085733                  0.131668    0.039345  0.135108   \n",
            "\n",
            "      primary_energy_consumption  energy_per_capita  energy_per_gdp  \n",
            "737                     0.003083           0.853363        0.095316  \n",
            "1026                    0.007609           0.068250        0.058622  \n",
            "158                     0.001207           0.177481        0.334129  \n",
            "453                     0.001631           0.181753        0.126790  \n",
            "144                     0.020830           0.056841        0.081742  \n",
            "...                          ...                ...             ...  \n",
            "219                     0.000462           0.135108        0.121718  \n",
            "662                     0.000070           0.651331        0.126641  \n",
            "45                      0.002372           0.372313        0.102774  \n",
            "131                     0.015145           0.029972        0.084576  \n",
            "1110                    0.168136           0.744730        0.173926  \n",
            "\n",
            "[339 rows x 61 columns]\n"
          ]
        }
      ]
    },
    {
      "cell_type": "code",
      "source": [
        "from sklearn.neighbors import KNeighborsClassifier\n",
        "neigh = KNeighborsClassifier(n_neighbors=3)\n",
        "x=X_train.iloc[:,3:-1]\n",
        "neigh.fit(x, y_train)"
      ],
      "metadata": {
        "colab": {
          "base_uri": "https://localhost:8080/"
        },
        "id": "MQZ692olU-Zu",
        "outputId": "ea62c158-6cdc-4f58-c69a-f77622d7faa4"
      },
      "execution_count": 116,
      "outputs": [
        {
          "output_type": "execute_result",
          "data": {
            "text/plain": [
              "KNeighborsClassifier(n_neighbors=3)"
            ]
          },
          "metadata": {},
          "execution_count": 116
        }
      ]
    },
    {
      "cell_type": "code",
      "source": [
        "x1=X_test.iloc[:,3:-1]\n",
        "s1=neigh.score(x, y_train)\n",
        "s2=neigh.score(x1, y_test)\n",
        "print(s1)\n",
        "print(s2)"
      ],
      "metadata": {
        "colab": {
          "base_uri": "https://localhost:8080/"
        },
        "id": "XuzHnrsXVl2W",
        "outputId": "6ea86f28-72d6-4a07-a2f9-a364ce4c3e01"
      },
      "execution_count": 117,
      "outputs": [
        {
          "output_type": "stream",
          "name": "stdout",
          "text": [
            "0.9150823827629911\n",
            "0.8643067846607669\n"
          ]
        }
      ]
    },
    {
      "cell_type": "code",
      "source": [
        "neigh.predict(X_test.iloc[30:31,3:-1])\n"
      ],
      "metadata": {
        "colab": {
          "base_uri": "https://localhost:8080/"
        },
        "id": "guBoPyr0VnWg",
        "outputId": "05467643-6710-4db2-e695-cf6b47f85fdb"
      },
      "execution_count": 118,
      "outputs": [
        {
          "output_type": "execute_result",
          "data": {
            "text/plain": [
              "array(['high'], dtype=object)"
            ]
          },
          "metadata": {},
          "execution_count": 118
        }
      ]
    },
    {
      "cell_type": "code",
      "source": [
        "neighbors = np.arange(1, 11)\n",
        "train_accuracy = np.empty(len(neighbors))\n",
        "test_accuracy = np.empty(len(neighbors))\n",
        "  \n",
        "for i, k in enumerate(neighbors):\n",
        "    neigh = KNeighborsClassifier(n_neighbors=k)\n",
        "    x=X_train.iloc[:,3:-1]\n",
        "    neigh.fit(x, y_train)\n",
        "      \n",
        "    train_accuracy[i] = neigh.score(X_train.iloc[:,3:-1], y_train)\n",
        "    test_accuracy[i] = neigh.score(X_test.iloc[:,3:-1], y_test)\n",
        "  \n",
        "plt.plot(neighbors, test_accuracy, label = 'Testing dataset Accuracy')\n",
        "plt.plot(neighbors, train_accuracy, label = 'Training dataset Accuracy')\n",
        "  \n",
        "plt.legend()\n",
        "plt.xlabel('n_neighbors')\n",
        "plt.ylabel('Accuracy')\n",
        "plt.show()"
      ],
      "metadata": {
        "colab": {
          "base_uri": "https://localhost:8080/",
          "height": 280
        },
        "id": "AwTkb1Wha_fm",
        "outputId": "5b4ba673-dda1-46ea-abc1-58b0ca4103d7"
      },
      "execution_count": 119,
      "outputs": [
        {
          "output_type": "display_data",
          "data": {
            "text/plain": [
              "<Figure size 432x288 with 1 Axes>"
            ],
            "image/png": "[encoded data removed]"
          },
          "metadata": {
            "needs_background": "light"
          }
        }
      ]
    }
  ]
}