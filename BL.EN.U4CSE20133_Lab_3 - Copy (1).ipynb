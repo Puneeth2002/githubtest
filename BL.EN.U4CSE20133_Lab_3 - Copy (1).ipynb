{
 "cells": [
  {
   "cell_type": "code",
   "execution_count": null,
   "metadata": {
    "id": "g9HrD_jpVX7F"
   },
   "outputs": [],
   "source": [
    "import pandas as pd\n",
    "import numpy as np\n",
    "from sklearn import preprocessing\n",
    "from matplotlib import pyplot as plt"
   ]
  },
  {
   "cell_type": "code",
   "execution_count": null,
   "metadata": {
    "id": "DWYJ65GNVpH_"
   },
   "outputs": [],
   "source": [
    "df=pd.read_csv('/content/row_cleaned.csv')\n",
    "data=df.loc[:, ~df.columns.isin(['Sno', 'iso_code','country'])]\n",
    "x = data.values\n",
    "min_max_scaler = preprocessing.MinMaxScaler()\n",
    "x_scaled = min_max_scaler.fit_transform(x)\n",
    "data = pd.DataFrame(x_scaled)\n",
    "\n",
    "data.to_csv('/content/normalized.csv')"
   ]
  },
  {
   "cell_type": "code",
   "execution_count": null,
   "metadata": {
    "id": "zCH6VLGca2Ht"
   },
   "outputs": [],
   "source": [
    "df_min_max_scaled = df.copy()\n",
    "\n",
    "for column in df_min_max_scaled.iloc[:, 4:]:\n",
    "    df_min_max_scaled[column] = (df_min_max_scaled[column] - df_min_max_scaled[column].min()) / (df_min_max_scaled[column].max() - df_min_max_scaled[column].min())\n",
    "\n",
    "\n",
    "df_min_max_scaled.to_csv('/content/min-max-normalized.csv')"
   ]
  },
  {
   "cell_type": "code",
   "execution_count": null,
   "metadata": {
    "colab": {
     "base_uri": "https://localhost:8080/"
    },
    "id": "5bus_KV6qebu",
    "outputId": "344160d6-d922-4bd8-85a3-c4e7021a9060"
   },
   "outputs": [],
   "source": [
    "def explore(row: float):\n",
    "  if row >= 0.25:\n",
    "    return 'H'\n",
    "  else:\n",
    "    return 'L'\n",
    "a=df_min_max_scaled['co2_per_gdp'].tolist()\n",
    "b=[]\n",
    "for r in a:\n",
    "  b.append(explore(r))\n",
    "\n",
    "df_min_max_scaled['class']=b\n",
    "print(df_min_max_scaled['class'])\n",
    "df_min_max_scaled.to_csv('/content/min-max-normalized.csv')"
   ]
  },
  {
   "cell_type": "code",
   "execution_count": null,
   "metadata": {
    "colab": {
     "base_uri": "https://localhost:8080/"
    },
    "id": "Kd_yninl24zL",
    "outputId": "e65b0036-0746-463b-b1b1-f03c58d3430f"
   },
   "outputs": [],
   "source": [
    "classa=df_min_max_scaled.loc[df_min_max_scaled['class']=='high']\n",
    "Mean=np.mean(classa , axis=0)\n",
    "SD=np.std(classa, axis=0)\n",
    "print(Mean)\n",
    "print(SD)"
   ]
  },
  {
   "cell_type": "code",
   "execution_count": null,
   "metadata": {
    "colab": {
     "base_uri": "https://localhost:8080/"
    },
    "id": "_QjjG69s21yv",
    "outputId": "d0fe76e8-9673-4ea3-e7a0-15e95d030f97"
   },
   "outputs": [],
   "source": [
    "classb=df_min_max_scaled.loc[df_min_max_scaled['class']=='low']\n",
    "Mean1=np.mean(classb , axis=0)\n",
    "SD1=np.std(classa, axis=0)\n",
    "print(Mean1)\n",
    "print(SD1)"
   ]
  },
  {
   "cell_type": "code",
   "execution_count": null,
   "metadata": {
    "colab": {
     "base_uri": "https://localhost:8080/"
    },
    "id": "_vnWi59J4Wjt",
    "outputId": "3bb9656d-85bb-4d8f-8861-7079527c2a66"
   },
   "outputs": [],
   "source": [
    "dist=np.linalg.norm(Mean-Mean1)\n",
    "print(dist)"
   ]
  },
  {
   "cell_type": "code",
   "execution_count": null,
   "metadata": {
    "colab": {
     "base_uri": "https://localhost:8080/"
    },
    "id": "33_VnPUa_e3c",
    "outputId": "bbe5b480-fe0c-4956-f24f-7418fc2094ad"
   },
   "outputs": [],
   "source": [
    "np.histogram(df_min_max_scaled['consumption_co2_per_capita'],bins=[0,0.1,0.2,0.3,0.4,0.5,0.6,0.7,0.8,0.9,1],density=True)\n",
    "m=df_min_max_scaled['consumption_co2_per_capita'].mean()\n",
    "var=df_min_max_scaled['consumption_co2_per_capita'].var()\n",
    "print(\"Mean:\",m)\n",
    "print(\"Var:\",var)"
   ]
  },
  {
   "cell_type": "code",
   "execution_count": null,
   "metadata": {
    "colab": {
     "base_uri": "https://localhost:8080/",
     "height": 265
    },
    "id": "PBwJ4wJzM-7I",
    "outputId": "66a50abb-3a73-4de2-f11e-12d201353dc7"
   },
   "outputs": [],
   "source": [
    "plt.hist(df_min_max_scaled['consumption_co2_per_capita'],bins=[0,0.1,0.2,0.3,0.4,0.5,0.6,0.7,0.8,0.9,1])\n",
    "plt.show()"
   ]
  },
  {
   "cell_type": "code",
   "execution_count": null,
   "metadata": {
    "colab": {
     "base_uri": "https://localhost:8080/",
     "height": 302
    },
    "id": "SDzP5fNpRPC0",
    "outputId": "80bec889-386f-4d0b-9887-d801929a70d9"
   },
   "outputs": [],
   "source": [
    "from scipy.spatial import distance\n",
    "a=df_min_max_scaled.iloc[18,3:-1]\n",
    "b=df_min_max_scaled.iloc[19,3:-1]\n",
    "ans=[]\n",
    "for p in range(1,11):\n",
    "  ans.append(distance.minkowski(a,b,p))\n",
    "print(ans)\n",
    "plt.plot(ans)\n",
    "plt.show()"
   ]
  },
  {
   "cell_type": "code",
   "execution_count": null,
   "metadata": {
    "colab": {
     "base_uri": "https://localhost:8080/"
    },
    "id": "Dyzh71MyTf6w",
    "outputId": "4c67faef-accf-4f9f-b876-cf662fecf1a2"
   },
   "outputs": [],
   "source": [
    "from sklearn.model_selection import train_test_split\n",
    "z=df_min_max_scaled.iloc[:,:-1]\n",
    "\n",
    "a_train, a_test, b_train, b_test = train_test_split(z, df_min_max_scaled['class'], test_size=0.3)\n",
    "print(a_test)"
   ]
  },
  {
   "cell_type": "code",
   "execution_count": null,
   "metadata": {
    "colab": {
     "base_uri": "https://localhost:8080/"
    },
    "id": "MQZ692olU-Zu",
    "outputId": "ea62c158-6cdc-4f58-c69a-f77622d7faa4"
   },
   "outputs": [],
   "source": [
    "from sklearn.neighbors import KNeighborsClassifier\n",
    "neigh = KNeighborsClassifier(n_neighbors=3)\n",
    "a=a_train.iloc[:,3:-1]\n",
    "neigh.fit(a, b_train)"
   ]
  },
  {
   "cell_type": "code",
   "execution_count": null,
   "metadata": {
    "colab": {
     "base_uri": "https://localhost:8080/"
    },
    "id": "XuzHnrsXVl2W",
    "outputId": "6ea86f28-72d6-4a07-a2f9-a364ce4c3e01"
   },
   "outputs": [],
   "source": [
    "a1=a_test.iloc[:,3:-1]\n",
    "s1=neigh.score(a, b_train)\n",
    "s2=neigh.score(a1, b_test)\n",
    "print(s1)\n",
    "print(s2)"
   ]
  },
  {
   "cell_type": "code",
   "execution_count": null,
   "metadata": {
    "colab": {
     "base_uri": "https://localhost:8080/"
    },
    "id": "guBoPyr0VnWg",
    "outputId": "05467643-6710-4db2-e695-cf6b47f85fdb"
   },
   "outputs": [],
   "source": [
    "neigh.predict(a_test.iloc[30:31,3:-1])\n"
   ]
  },
  {
   "cell_type": "code",
   "execution_count": null,
   "metadata": {
    "colab": {
     "base_uri": "https://localhost:8080/",
     "height": 280
    },
    "id": "AwTkb1Wha_fm",
    "outputId": "5b4ba673-dda1-46ea-abc1-58b0ca4103d7"
   },
   "outputs": [],
   "source": [
    "neighbors = np.arange(1, 11)\n",
    "train_accuracy = np.empty(len(neighbors))\n",
    "test_accuracy = np.empty(len(neighbors))\n",
    "  \n",
    "for i, k in enumerate(neighbors):\n",
    "    neigh = KNeighborsClassifier(n_neighbors=k)\n",
    "    a=a_train.iloc[:,3:-1]\n",
    "    neigh.fit(a, b_train)\n",
    "      \n",
    "    train_accuracy[i] = neigh.score(a_train.iloc[:,3:-1], b_train)\n",
    "    test_accuracy[i] = neigh.score(a_test.iloc[:,3:-1], b_test)\n",
    "  \n",
    "plt.plot(neighbors, test_accuracy, label = 'Testing dataset Accuracy')\n",
    "plt.plot(neighbors, train_accuracy, label = 'Training dataset Accuracy')\n",
    "  \n",
    "plt.legend()\n",
    "plt.alabel('n_neighbors')\n",
    "plt.blabel('Accuracy')\n",
    "plt.show()"
   ]
  }
 ],
 "metadata": {
  "colab": {
   "collapsed_sections": [],
   "provenance": []
  },
  "kernelspec": {
   "display_name": "Python 3 (ipykernel)",
   "language": "python",
   "name": "python3"
  },
  "language_info": {
   "codemirror_mode": {
    "name": "ipython",
    "version": 3
   },
   "file_extension": ".py",
   "mimetype": "text/x-python",
   "name": "python",
   "nbconvert_exporter": "python",
   "pygments_lexer": "ipython3",
   "version": "3.9.12"
  }
 },
 "nbformat": 4,
 "nbformat_minor": 1
}
